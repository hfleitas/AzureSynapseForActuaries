{
    "metadata": {
        "kernelspec": {
            "name": "SQL",
            "display_name": "SQL",
            "language": "sql"
        },
        "language_info": {
            "name": "sql",
            "version": ""
        },
        "extensions": {
            "azuredatastudio": {
                "version": 1,
                "views": []
            }
        }
    },
    "nbformat_minor": 2,
    "nbformat": 4,
    "cells": [
        {
            "cell_type": "code",
            "source": [
                "CREATE EXTERNAL LIBRARY Cubist  FROM (CONTENT = 'E:/UserPackageDirectory/Cubist_0.2.3.zip'  ) WITH (LANGUAGE = 'R');\r\n",
                "CREATE EXTERNAL LIBRARY mlbench FROM (CONTENT = 'E:/UserPackageDirectory/mlbench_2.1-1.zip' ) WITH (LANGUAGE = 'R');"
            ],
            "metadata": {
                "azdata_cell_guid": "ee554768-51c2-4b2f-a7e6-db8ca692f9bf",
                "extensions": {
                    "azuredatastudio": {
                        "views": []
                    }
                }
            },
            "outputs": [
                {
                    "output_type": "display_data",
                    "data": {
                        "text/html": "Commands completed successfully."
                    },
                    "metadata": {}
                },
                {
                    "output_type": "display_data",
                    "data": {
                        "text/html": "Total execution time: 00:00:00.906"
                    },
                    "metadata": {}
                }
            ],
            "execution_count": 21
        },
        {
            "cell_type": "code",
            "source": [
                "exec sp_execute_external_script \r\n",
                "    @language = N'R',\r\n",
                "    @script = N'\r\n",
                "library(Cubist)\r\n",
                "library(mlbench)\r\n",
                "data(BostonHousing)\r\n",
                "\r\n",
                "## 1 committee, so just an M5 fit:\r\n",
                "mod1 <- cubist(x = BostonHousing[, -14], y = BostonHousing$medv)\r\n",
                "print(mod1)\r\n",
                "\r\n",
                "## Now with 10 committees\r\n",
                "mod2 <- cubist(x = BostonHousing[, -14], y = BostonHousing$medv, committees = 10)\r\n",
                "print(mod2)\r\n",
                "';"
            ],
            "metadata": {
                "azdata_cell_guid": "1e7b796e-d99a-47d7-905b-5260a5802963",
                "extensions": {
                    "azuredatastudio": {
                        "views": []
                    }
                }
            },
            "outputs": [
                {
                    "output_type": "display_data",
                    "data": {
                        "text/html": "STDERR message(s) from external script: \nWarning messages:\r\n1: package 'Cubist' was built under R version 3.5.3 \r\n2: package 'mlbench' was built under R version 3.5.3 \r"
                    },
                    "metadata": {}
                },
                {
                    "output_type": "display_data",
                    "data": {
                        "text/html": "STDOUT message(s) from external script: \n\r\nCall:\r\ncubist.default(x = BostonHousing[, -14], y = BostonHousing$medv)\r\n\r\nNumber of samples: 506 \r\nNumber of predictors: 13 \r\n\r\nNumber of committees: 1 \r\nNumber of rules: 4 \r\n\r\n\r\nCall:\r\ncubist.default(x = BostonHousing[, -14], y = BostonHousing$medv, committees\r\n = 10)\r\n\r\nNumber of samples: 506 \r\nNumber of predictors: 13 \r\n\r\nNumber of committees: 10 \r\nNumber of rules per committee: 4, 6, 4, 6, 6, 7, 7, 7, 4, 5 \r\n\r"
                    },
                    "metadata": {}
                },
                {
                    "output_type": "display_data",
                    "data": {
                        "text/html": "Total execution time: 00:00:02.440"
                    },
                    "metadata": {}
                }
            ],
            "execution_count": 23
        }
    ]
}